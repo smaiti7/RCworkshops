{
  "nbformat": 4,
  "nbformat_minor": 0,
  "metadata": {
    "colab": {
      "provenance": [],
      "collapsed_sections": [],
      "toc_visible": true,
      "include_colab_link": true
    },
    "kernelspec": {
      "name": "python3",
      "display_name": "Python 3"
    },
    "language_info": {
      "name": "python"
    }
  },
  "cells": [
    {
      "cell_type": "markdown",
      "metadata": {
        "id": "view-in-github",
        "colab_type": "text"
      },
      "source": [
        "<a href=\"https://colab.research.google.com/github/smaiti7/RCworkshops/blob/master/Copy_of_LogRegNotebook.ipynb\" target=\"_parent\"><img src=\"https://colab.research.google.com/assets/colab-badge.svg\" alt=\"Open In Colab\"/></a>"
      ]
    },
    {
      "cell_type": "markdown",
      "source": [
        "# Downloads and Module Imports"
      ],
      "metadata": {
        "id": "o7vH294wbdK1"
      }
    },
    {
      "cell_type": "code",
      "execution_count": null,
      "metadata": {
        "colab": {
          "base_uri": "https://localhost:8080/",
          "height": 333
        },
        "id": "Oty9BCIba-XJ",
        "outputId": "84cce074-9de8-4974-9288-1f708b6d1d16"
      },
      "outputs": [
        {
          "output_type": "stream",
          "name": "stdout",
          "text": [
            "Looking in indexes: https://pypi.org/simple, https://us-python.pkg.dev/colab-wheels/public/simple/\n",
            "Requirement already satisfied: gdown in /usr/local/lib/python3.7/dist-packages (4.4.0)\n",
            "Requirement already satisfied: tqdm in /usr/local/lib/python3.7/dist-packages (from gdown) (4.64.1)\n",
            "Requirement already satisfied: requests[socks] in /usr/local/lib/python3.7/dist-packages (from gdown) (2.23.0)\n",
            "Requirement already satisfied: six in /usr/local/lib/python3.7/dist-packages (from gdown) (1.15.0)\n",
            "Requirement already satisfied: beautifulsoup4 in /usr/local/lib/python3.7/dist-packages (from gdown) (4.6.3)\n",
            "Requirement already satisfied: filelock in /usr/local/lib/python3.7/dist-packages (from gdown) (3.8.0)\n",
            "Requirement already satisfied: certifi>=2017.4.17 in /usr/local/lib/python3.7/dist-packages (from requests[socks]->gdown) (2022.9.24)\n",
            "Requirement already satisfied: chardet<4,>=3.0.2 in /usr/local/lib/python3.7/dist-packages (from requests[socks]->gdown) (3.0.4)\n",
            "Requirement already satisfied: urllib3!=1.25.0,!=1.25.1,<1.26,>=1.21.1 in /usr/local/lib/python3.7/dist-packages (from requests[socks]->gdown) (1.24.3)\n",
            "Requirement already satisfied: idna<3,>=2.5 in /usr/local/lib/python3.7/dist-packages (from requests[socks]->gdown) (2.10)\n",
            "Requirement already satisfied: PySocks!=1.5.7,>=1.5.6 in /usr/local/lib/python3.7/dist-packages (from requests[socks]->gdown) (1.7.1)\n"
          ]
        },
        {
          "output_type": "stream",
          "name": "stderr",
          "text": [
            "Downloading...\n",
            "From: https://drive.google.com/uc?id=1I4wNpKCRujizbEP5B9Gn4RoVSjQDB3uY\n",
            "To: /content/hoodie.csv\n",
            "100%|██████████| 10.4k/10.4k [00:00<00:00, 12.1MB/s]\n"
          ]
        },
        {
          "output_type": "execute_result",
          "data": {
            "text/plain": [
              "'hoodie.csv'"
            ],
            "application/vnd.google.colaboratory.intrinsic+json": {
              "type": "string"
            }
          },
          "metadata": {},
          "execution_count": 40
        }
      ],
      "source": [
        "!pip install gdown\n",
        "import gdown\n",
        "dataURL = \"https://drive.google.com/file/d/1I4wNpKCRujizbEP5B9Gn4RoVSjQDB3uY/view?usp=sharing\"\n",
        "gdown.download(url=dataURL, fuzzy=True)"
      ]
    },
    {
      "cell_type": "code",
      "source": [
        "import pandas as pd\n",
        "import numpy as np\n",
        "import math\n",
        "import matplotlib.pyplot as plt\n",
        "import plotly.express as px"
      ],
      "metadata": {
        "id": "CxihHx5Vbkkt"
      },
      "execution_count": null,
      "outputs": []
    },
    {
      "cell_type": "markdown",
      "source": [
        "# Data Loading and Training Data Extraction"
      ],
      "metadata": {
        "id": "-Hjiz1sVbrgV"
      }
    },
    {
      "cell_type": "markdown",
      "source": [
        "## Solution"
      ],
      "metadata": {
        "id": "gxm-yXFFb1WX"
      }
    },
    {
      "cell_type": "code",
      "source": [
        "# # Loading our hoodie.csv file\n",
        "# df = pd.read_csv(\"hoodie.csv\")\n",
        "\n",
        "# # Quickly plot our data to see separation\n",
        "# plt.scatter(x=df[\"x\"], y=df[\"y\"])\n",
        "\n",
        "# # Extract our X and Y lists for user later on, normalizing X\n",
        "# # for faster optimization\n",
        "# X = np.array(df[\"x\"] / 100)\n",
        "# Y = np.array(df[\"y\"])"
      ],
      "metadata": {
        "id": "S_44APJeb2rI"
      },
      "execution_count": null,
      "outputs": []
    },
    {
      "cell_type": "markdown",
      "source": [
        "## Your Code"
      ],
      "metadata": {
        "id": "7PdtDsexc6jx"
      }
    },
    {
      "cell_type": "code",
      "source": [
        "# Loading our hoodie.csv file\n",
        "df = ###\n",
        "\n",
        "# Quickly plot our data to see separation\n",
        "##\n",
        "\n",
        "# Extract our X and Y lists for user later on, normalizing X\n",
        "# for faster optimization\n",
        "X = ##\n",
        "Y = ##"
      ],
      "metadata": {
        "id": "gF5GT3PMdCQh",
        "colab": {
          "base_uri": "https://localhost:8080/",
          "height": 131
        },
        "outputId": "90da2ca3-c84d-4ba1-ef2e-8ecb60527ad1"
      },
      "execution_count": null,
      "outputs": [
        {
          "output_type": "error",
          "ename": "SyntaxError",
          "evalue": "ignored",
          "traceback": [
            "\u001b[0;36m  File \u001b[0;32m\"<ipython-input-43-d1e482db9932>\"\u001b[0;36m, line \u001b[0;32m2\u001b[0m\n\u001b[0;31m    df = ###\u001b[0m\n\u001b[0m            ^\u001b[0m\n\u001b[0;31mSyntaxError\u001b[0m\u001b[0;31m:\u001b[0m invalid syntax\n"
          ]
        }
      ]
    },
    {
      "cell_type": "markdown",
      "source": [
        "# Building Log Reg Utilities\n",
        "Here, we'll define our loss function and the core sigmoid function to later use for our training code"
      ],
      "metadata": {
        "id": "6KUh-6evdLr0"
      }
    },
    {
      "cell_type": "markdown",
      "source": [
        "## Solution"
      ],
      "metadata": {
        "id": "8ekQ6TdadeZQ"
      }
    },
    {
      "cell_type": "code",
      "source": [
        "# # Our sigmoid activation function\n",
        "# model = lambda x, k, x0 : 1 / ( 1 + math.e ** (-k * (x - x0)) )\n",
        "\n",
        "# # The log loss function\n",
        "# loss = lambda y, y_hat : -1 * np.mean(y * (np.log(y_hat + 1e-14)) + (1 - y) * ( np.log(1 - y_hat + 1e-14) ))"
      ],
      "metadata": {
        "id": "Q3xVhCRmdhMW"
      },
      "execution_count": null,
      "outputs": []
    },
    {
      "cell_type": "markdown",
      "source": [
        "## Your Code"
      ],
      "metadata": {
        "id": "nGi1GuT8dxFu"
      }
    },
    {
      "cell_type": "code",
      "source": [
        "# Our sigmoid activation function\n",
        "model = ##\n",
        "\n",
        "# The log loss function\n",
        "loss = ##"
      ],
      "metadata": {
        "id": "jpSzROfCdyCc"
      },
      "execution_count": null,
      "outputs": []
    },
    {
      "cell_type": "markdown",
      "source": [
        "# Training our model"
      ],
      "metadata": {
        "id": "ikceNXoEd2TE"
      }
    },
    {
      "cell_type": "markdown",
      "source": [
        "## Solution"
      ],
      "metadata": {
        "id": "5ziuPSdRd73m"
      }
    },
    {
      "cell_type": "code",
      "source": [
        "# # Initializing our paramaters\n",
        "# K = 0\n",
        "# X0 = 0\n",
        "\n",
        "# # An array to store all our errors; initialize with the current error\n",
        "# error = [loss(Y, model(X, K, X0))]\n",
        "\n",
        "# # Defining a learning rate that's small enough\n",
        "# LR = 0.3\n",
        "\n",
        "# # Defining the number of epochs we're going to run for\n",
        "# epochs = 500\n",
        "\n",
        "# # The finite difference we're going to use to approximate the partial derivatice\n",
        "# H = 1e-3\n",
        "\n",
        "# # Time to start optimizing\n",
        "# for _ in range(epochs):\n",
        "#   # First, compute both partial diffs\n",
        "#   pd_K = ( loss(Y, model(X, K + H, X0)) - error[-1] ) / H\n",
        "#   pd_X0 = ( loss(Y, model(X, K , X0 + H)) - error[-1] ) / H\n",
        "\n",
        "#   # Apply our update to our paramaters\n",
        "#   K -= pd_K * LR\n",
        "#   X0 -= pd_X0 * LR\n",
        "\n",
        "#   # Add the new error to our error list\n",
        "#   error.append( loss(Y, model(X, K, X0)) )\n",
        "\n",
        "# # Plot error\n",
        "# plt.scatter(x=np.linspace(1, len(error), len(error)), y=error)"
      ],
      "metadata": {
        "id": "5hxkFSP-d_dg"
      },
      "execution_count": null,
      "outputs": []
    },
    {
      "cell_type": "markdown",
      "source": [
        "## Your code"
      ],
      "metadata": {
        "id": "k6aFEim8gcMM"
      }
    },
    {
      "cell_type": "code",
      "source": [
        "# Initializing our paramaters\n",
        "K = 0\n",
        "X0 = 0\n",
        "\n",
        "# An array to store all our errors; initialize with the current error\n",
        "error = ##\n",
        "\n",
        "# Defining a learning rate that's small enough\n",
        "LR = 0.3\n",
        "\n",
        "# Defining the number of epochs we're going to run for\n",
        "epochs = 500\n",
        "\n",
        "# The finite difference we're going to use to approximate the partial derivatice\n",
        "H = 1e-3\n",
        "\n",
        "# Time to start optimizing\n",
        "for _ in range(epochs):\n",
        "  # First, compute both partial diffs\n",
        "  pd_K = ##\n",
        "  pd_X0 = ##\n",
        "\n",
        "  # Apply our update to our paramaters\n",
        "  K -= ##\n",
        "  X0 -= ##\n",
        "\n",
        "  # Add the new error to our error list\n",
        "  error.append( ## )\n",
        "\n",
        "# Plot error\n",
        "plt.scatter(x=np.linspace(1, len(error), len(error)), y=error)"
      ],
      "metadata": {
        "id": "B5QUaCwGeanu"
      },
      "execution_count": null,
      "outputs": []
    },
    {
      "cell_type": "markdown",
      "source": [
        "# Plotting Results"
      ],
      "metadata": {
        "id": "MV0Rc2LeglXM"
      }
    },
    {
      "cell_type": "code",
      "source": [
        "print(K)\n",
        "print(X0)\n",
        "\n",
        "# Plot all points first\n",
        "plt.scatter(X * 100, Y)\n",
        "\n",
        "# Now plot the model, making sure to divide x by 100 to transform it\n",
        "xRange = np.linspace(1, 100, 100)\n",
        "plt.scatter( xRange, model(xRange / 100, K, X0) )"
      ],
      "metadata": {
        "id": "bUNtpmZWgqJM"
      },
      "execution_count": null,
      "outputs": []
    }
  ]
}