{
  "nbformat": 4,
  "nbformat_minor": 0,
  "metadata": {
    "colab": {
      "name": "Additional Notes and Resources.ipynb",
      "provenance": [],
      "include_colab_link": true
    },
    "kernelspec": {
      "name": "python3",
      "display_name": "Python 3"
    },
    "language_info": {
      "name": "python"
    }
  },
  "cells": [
    {
      "cell_type": "markdown",
      "metadata": {
        "id": "view-in-github",
        "colab_type": "text"
      },
      "source": [
        "<a href=\"https://colab.research.google.com/github/smaiti7/RCworkshops/blob/master/Additional_Notes_and_Resources.ipynb\" target=\"_parent\"><img src=\"https://colab.research.google.com/assets/colab-badge.svg\" alt=\"Open In Colab\"/></a>"
      ]
    },
    {
      "cell_type": "markdown",
      "source": [
        "#### *Mathematical Operators*\n",
        "<pre>\n",
        "Addition         +\n",
        "Subtraction      -\n",
        "Multiplication   *\n",
        "Power            **\n",
        "Division         /\n",
        "Floor Division   //\n",
        "Modulus          %\n",
        "</pre>"
      ],
      "metadata": {
        "id": "tqPwJroZ34ni"
      }
    },
    {
      "cell_type": "markdown",
      "source": [
        "####*NumPy Arithmetic*\n",
        "<pre>\n",
        "Addition         add()\n",
        "Sum              sum()\n",
        "Subtraction      subtract()\n",
        "Multiplication   multiply()\n",
        "Power            power()\n",
        "Divide           divide()\n",
        "Remainder        mod() or remainder()\n",
        "</pre>\n",
        "All of these functions will compute the values and return the results in a new array."
      ],
      "metadata": {
        "id": "Vb4k_usw4CfY"
      }
    },
    {
      "cell_type": "markdown",
      "source": [
        "[NumPy Documentation](https://numpy.org/doc/)"
      ],
      "metadata": {
        "id": "vnmhB97n4RtY"
      }
    },
    {
      "cell_type": "markdown",
      "source": [
        "####*Logic Conditionals*\n",
        "\n",
        "<pre>\n",
        "Equals                      ==\n",
        "Not Equals                  !=\n",
        "Less than                   <\n",
        "Less than or equal to       <=\n",
        "Greater than                >\n",
        "Greater than or equal to    >=\n",
        "</pre>"
      ],
      "metadata": {
        "id": "BVaHCd-f4Fch"
      }
    },
    {
      "cell_type": "markdown",
      "source": [
        "*Comparison operators can be used in chain comparison operations\n",
        "\n",
        "**BOOLEAN OPERATORS**\n",
        "* True numberical substitute is 1\n",
        "* False numberical substitute is 0\n",
        "\n",
        "**INVERSE BOOLEAN**\n",
        "* The not statement can be used to create an inverse boolean output\n",
        "\n",
        "**MEMBERSHIP OPERATOR**\n",
        "* *in* statement checks if a variable is also found in another variable\n",
        "\n",
        "**OTHER OPERATORS**\n",
        "\n",
        "*   *and*\n",
        "*   *or*"
      ],
      "metadata": {
        "id": "_RC5HJFOBXsi"
      }
    },
    {
      "cell_type": "markdown",
      "source": [
        "## **Dictionaries**\n",
        "\n",
        "* Consist of keys and key values separated by a colon\n",
        "* Keys must be either strings or numbers\n",
        "* Values can consist of any variable or scalar value"
      ],
      "metadata": {
        "id": "tEX7QikOBzk4"
      }
    },
    {
      "cell_type": "markdown",
      "source": [
        "## **LISTS AND RANGE**\n",
        "\n",
        "### LISTS\n",
        "* A **list** contains a sequence of values in square brackets, []\n",
        "* Each value can be a float, int, string, or variable\n",
        "* Each value in a **list** is called an element\n",
        "* Lists can contain any variable or scalar value\n",
        "    \n",
        "### MUTABLE\n",
        "* Elements in a **list** and dictionaries are mutable\n",
        "* Elements in a **tuple** or **\"string\"** are *not* mutable\n",
        "\n",
        "    `num = [10, 20, 30]`\n",
        "    \n",
        "    `num[0] = \"hello\"`\n",
        "    \n",
        "    `[\"hello\", 20, 30]` *(this is what it means to be mutable)*\n",
        "\n",
        "### RANGE\n",
        "* **range** generates a specified **list** of numbers\n",
        "* Used with loops"
      ],
      "metadata": {
        "id": "iUS1JlVaCAPr"
      }
    },
    {
      "cell_type": "markdown",
      "source": [
        "## **CONTROL FLOW (IF, ELSE, ELIF)**\n",
        "\n",
        "### IF, ELSE, ELIF\n",
        "* Adds logic to our code\n",
        "* The **if** statement performs a task **if** the condition is true\n",
        "* The **else** statement performs a default when the **if** statement's condition is false\n",
        "* **else** statements cannot exist on their own\n",
        "* **elif** statement (short for else if) works in between **if** and **else** statements\n",
        "* **elif** only performs a task when true, and the **if** statement is false\n",
        "\n",
        "### *DEPENDS ON INDENTATION!*"
      ],
      "metadata": {
        "id": "DsKVVVhYCUlf"
      }
    },
    {
      "cell_type": "code",
      "source": [],
      "metadata": {
        "id": "BCUOnosT35Tz"
      },
      "execution_count": null,
      "outputs": []
    }
  ]
}